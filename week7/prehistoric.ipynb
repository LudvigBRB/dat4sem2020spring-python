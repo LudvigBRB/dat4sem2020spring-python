{
 "cells": [
  {
   "cell_type": "code",
   "execution_count": 2,
   "metadata": {},
   "outputs": [],
   "source": [
    "from string import ascii_lowercase\n",
    "import bs4\n",
    "import requests\n",
    "from time import sleep\n",
    "from selenium import webdriver\n",
    "from selenium.webdriver.common.keys import Keys\n",
    "import collections\n",
    "\n",
    "#returnere liste af alle dyr på enkelt side\n",
    "def get_prehistoric_creatures(url):\n",
    "    html = requests.get(url)\n",
    "    txt = html.text\n",
    "    soup = bs4.BeautifulSoup(txt, 'html.parser')\n",
    "    events = soup.select('a font i')\n",
    "    \n",
    "    animals = []\n",
    "\n",
    "    for e in events:\n",
    "        animals.append(e.getText())\n",
    "        \n",
    "    return animals"
   ]
  },
  {
   "cell_type": "code",
   "execution_count": 3,
   "metadata": {},
   "outputs": [],
   "source": [
    "#returnere liste af alle dyr på alle sider\n",
    "#bruger get_prehistoric_creatures\n",
    "def get_all_prehistoric_creatures(base_url):\n",
    "    lists = []\n",
    "    \n",
    "    for c in ascii_lowercase:\n",
    "        scrape_url = base_url.format(c)\n",
    "        lists.append(get_prehistoric_creatures(scrape_url))\n",
    "    \n",
    "    return lists"
   ]
  },
  {
   "cell_type": "code",
   "execution_count": 4,
   "metadata": {},
   "outputs": [],
   "source": [
    "#finder diæten for dyr på enkelt side\n",
    "def get_diet(url):\n",
    "    html = requests.get(url)\n",
    "    txt = html.text\n",
    "    soup = bs4.BeautifulSoup(txt, 'html.parser')\n",
    "\n",
    "    events = soup.find_all('p')[0]\n",
    "    something = events.text.split(':')[6].split('Size')[0]\n",
    "    diet = something.replace(' ', '')\n",
    "    \n",
    "    return diet"
   ]
  },
  {
   "cell_type": "code",
   "execution_count": 5,
   "metadata": {},
   "outputs": [
    {
     "name": "stdout",
     "output_type": "stream",
     "text": [
      "Insectivore‭?\n",
      "\n"
     ]
    }
   ],
   "source": [
    "#url = 'http://www.prehistoric-wildlife.com/species/s/samburupithecus.html'\n",
    "#url = 'http://www.prehistoric-wildlife.com/species/a/acheloma.html'\n",
    "url = 'http://www.prehistoric-wildlife.com/species/a/acinacodus.html'\n",
    "#url = 'http://www.prehistoric-wildlife.com/species/a/acinonyx-pardinensis.html'\n",
    "\n",
    "print(get_diet(url))"
   ]
  },
  {
   "cell_type": "code",
   "execution_count": 6,
   "metadata": {},
   "outputs": [],
   "source": [
    "#finder diæten for alle dyr på alle sider\n",
    "#bruger et_all_prehistoric_creatures(), get_diet()\n",
    "def get_specific(base_url1, base_url2):\n",
    "    animalsList = get_all_prehistoric_creatures(base_url1)\n",
    "    \n",
    "    diet_list = []\n",
    "    extra_url = '{}.html'\n",
    "    \n",
    "    for c in ascii_lowercase:\n",
    "        scrape_url1 = base_url2.format(c)\n",
    "        \n",
    "        for animals in animalsList:\n",
    "            for a in animals:\n",
    "                scrape_url2 = scrape_url1 + extra_url\n",
    "                scrape_url3 = scrape_url2.format(a)\n",
    "\n",
    "                diet = get_diet(scrape_url3)\n",
    "                diet_list.append(diet)\n",
    "                print(\"Dyret: \", a)\n",
    "                print(\"Diæt: \", diet)\n",
    "                print(\"\\n\")\n",
    "            \n",
    "    return diet_list"
   ]
  },
  {
   "cell_type": "code",
   "execution_count": 9,
   "metadata": {},
   "outputs": [],
   "source": [
    "base_url = 'http://www.prehistoric-wildlife.com/listings/{}.html'\n",
    "\n",
    "list = get_all_prehistoric_creatures(base_url)\n",
    "\n",
    "#print(list)\n",
    "#print(list)"
   ]
  },
  {
   "cell_type": "code",
   "execution_count": 50,
   "metadata": {},
   "outputs": [
    {
     "name": "stdout",
     "output_type": "stream",
     "text": [
      "Kangnasaurus\n"
     ]
    }
   ],
   "source": [
    "es = list[10]\n",
    "print(es[4])"
   ]
  },
  {
   "cell_type": "code",
   "execution_count": 44,
   "metadata": {},
   "outputs": [
    {
     "name": "stdout",
     "output_type": "stream",
     "text": [
      "http://www.prehistoric-wildlife.com/species/hej/\n",
      "http://www.prehistoric-wildlife.com/species/hej/{}.html\n",
      "http://www.prehistoric-wildlife.com/species/hej/farvel.html\n"
     ]
    }
   ],
   "source": [
    "url = 'http://www.prehistoric-wildlife.com/species/{}/'\n",
    "more = '{}.html'\n",
    "\n",
    "url2 = url.format('hej')\n",
    "print(url2)\n",
    "\n",
    "url3 = url2 + more\n",
    "print(url3)\n",
    "\n",
    "url4 = url3.format('farvel')\n",
    "print(url4)"
   ]
  },
  {
   "cell_type": "code",
   "execution_count": 19,
   "metadata": {},
   "outputs": [
    {
     "name": "stdout",
     "output_type": "stream",
     "text": [
      "Dyret:  Aardonyx\n",
      "Diæt:  Herbivore.\n",
      "\n",
      "\n",
      "\n",
      "Dyret:  Abajudon\n",
      "Diæt:  Herbivore.\n",
      "\n",
      "\n",
      "\n",
      "Dyret:  Abdalodon\n",
      "Diæt:  Uncertain,‭‬butprobable\n",
      "insectivore/carnivore.\n",
      "\n",
      "\n",
      "\n",
      "Dyret:  Abdarainurus\n",
      "Diæt:  Herbivore.\n",
      "\n",
      "\n",
      "\n",
      "Dyret:  Abelisaurus\n",
      "Diæt:  Carnivore.\n",
      "\n",
      "\n",
      "\n",
      "Dyret:  Abyssomedon\n",
      "Diæt:  Herbivore.\n",
      "\n",
      "\n",
      "\n",
      "Dyret:  Abyssosaurus\n",
      "Diæt:  Piscivore.\n",
      "\n",
      "\n",
      "\n",
      "Dyret:  Acanthodes\n",
      "Diæt:  Filterfeeder.\n",
      "\n",
      "\n",
      "\n",
      "Dyret:  Acanthostega\n",
      "Diæt:  Carnivore.\n",
      "\n",
      "\n",
      "\n",
      "Dyret:  Achelousaurus\n",
      "Diæt:  Herbivore.\n",
      "\n",
      "\n",
      "\n",
      "Dyret:  Acheroraptor\n",
      "Diæt:  Carnivore.\n",
      "\n",
      "\n",
      "\n",
      "Dyret:  Acleistorhinus\n",
      "Diæt:  Insectivore.\n",
      "\n",
      "\n",
      "\n",
      "Dyret:  Achillobator\n",
      "Diæt:  Carnivore.\n",
      "\n",
      "\n",
      "\n"
     ]
    },
    {
     "ename": "IndexError",
     "evalue": "list index out of range",
     "output_type": "error",
     "traceback": [
      "\u001b[1;31m---------------------------------------------------------------------------\u001b[0m",
      "\u001b[1;31mIndexError\u001b[0m                                Traceback (most recent call last)",
      "\u001b[1;32m<ipython-input-19-31774e3f64d0>\u001b[0m in \u001b[0;36m<module>\u001b[1;34m\u001b[0m\n\u001b[0;32m      5\u001b[0m \u001b[0mextra_url\u001b[0m \u001b[1;33m=\u001b[0m \u001b[1;34m'{}.html'\u001b[0m\u001b[1;33m\u001b[0m\u001b[1;33m\u001b[0m\u001b[0m\n\u001b[0;32m      6\u001b[0m \u001b[1;33m\u001b[0m\u001b[0m\n\u001b[1;32m----> 7\u001b[1;33m \u001b[0mlist\u001b[0m \u001b[1;33m=\u001b[0m \u001b[0mget_specific\u001b[0m\u001b[1;33m(\u001b[0m\u001b[0mbase_url1\u001b[0m\u001b[1;33m,\u001b[0m \u001b[0mbase_url2\u001b[0m\u001b[1;33m)\u001b[0m\u001b[1;33m\u001b[0m\u001b[1;33m\u001b[0m\u001b[0m\n\u001b[0m\u001b[0;32m      8\u001b[0m \u001b[1;31m#print('aaa')\u001b[0m\u001b[1;33m\u001b[0m\u001b[1;33m\u001b[0m\u001b[1;33m\u001b[0m\u001b[0m\n",
      "\u001b[1;32m<ipython-input-16-91284ee78bbb>\u001b[0m in \u001b[0;36mget_specific\u001b[1;34m(base_url1, base_url2)\u001b[0m\n\u001b[0;32m     13\u001b[0m                 \u001b[0mscrape_url3\u001b[0m \u001b[1;33m=\u001b[0m \u001b[0mscrape_url2\u001b[0m\u001b[1;33m.\u001b[0m\u001b[0mformat\u001b[0m\u001b[1;33m(\u001b[0m\u001b[0ma\u001b[0m\u001b[1;33m)\u001b[0m\u001b[1;33m\u001b[0m\u001b[1;33m\u001b[0m\u001b[0m\n\u001b[0;32m     14\u001b[0m \u001b[1;33m\u001b[0m\u001b[0m\n\u001b[1;32m---> 15\u001b[1;33m                 \u001b[0mdiet\u001b[0m \u001b[1;33m=\u001b[0m \u001b[0mget_diet\u001b[0m\u001b[1;33m(\u001b[0m\u001b[0mscrape_url3\u001b[0m\u001b[1;33m)\u001b[0m\u001b[1;33m\u001b[0m\u001b[1;33m\u001b[0m\u001b[0m\n\u001b[0m\u001b[0;32m     16\u001b[0m                 \u001b[0mdiet_list\u001b[0m\u001b[1;33m.\u001b[0m\u001b[0mappend\u001b[0m\u001b[1;33m(\u001b[0m\u001b[0mdiet\u001b[0m\u001b[1;33m)\u001b[0m\u001b[1;33m\u001b[0m\u001b[1;33m\u001b[0m\u001b[0m\n\u001b[0;32m     17\u001b[0m                 \u001b[0mprint\u001b[0m\u001b[1;33m(\u001b[0m\u001b[1;34m\"Dyret: \"\u001b[0m\u001b[1;33m,\u001b[0m \u001b[0ma\u001b[0m\u001b[1;33m)\u001b[0m\u001b[1;33m\u001b[0m\u001b[1;33m\u001b[0m\u001b[0m\n",
      "\u001b[1;32m<ipython-input-18-11bdcacfa12d>\u001b[0m in \u001b[0;36mget_diet\u001b[1;34m(url)\u001b[0m\n\u001b[0;32m      4\u001b[0m     \u001b[0msoup\u001b[0m \u001b[1;33m=\u001b[0m \u001b[0mbs4\u001b[0m\u001b[1;33m.\u001b[0m\u001b[0mBeautifulSoup\u001b[0m\u001b[1;33m(\u001b[0m\u001b[0mtxt\u001b[0m\u001b[1;33m,\u001b[0m \u001b[1;34m'html.parser'\u001b[0m\u001b[1;33m)\u001b[0m\u001b[1;33m\u001b[0m\u001b[1;33m\u001b[0m\u001b[0m\n\u001b[0;32m      5\u001b[0m \u001b[1;33m\u001b[0m\u001b[0m\n\u001b[1;32m----> 6\u001b[1;33m     \u001b[0mevents\u001b[0m \u001b[1;33m=\u001b[0m \u001b[0msoup\u001b[0m\u001b[1;33m.\u001b[0m\u001b[0mfind_all\u001b[0m\u001b[1;33m(\u001b[0m\u001b[1;34m'p'\u001b[0m\u001b[1;33m)\u001b[0m\u001b[1;33m[\u001b[0m\u001b[1;36m0\u001b[0m\u001b[1;33m]\u001b[0m\u001b[1;33m\u001b[0m\u001b[1;33m\u001b[0m\u001b[0m\n\u001b[0m\u001b[0;32m      7\u001b[0m     \u001b[0msomething\u001b[0m \u001b[1;33m=\u001b[0m \u001b[0mevents\u001b[0m\u001b[1;33m.\u001b[0m\u001b[0mtext\u001b[0m\u001b[1;33m.\u001b[0m\u001b[0msplit\u001b[0m\u001b[1;33m(\u001b[0m\u001b[1;34m':'\u001b[0m\u001b[1;33m)\u001b[0m\u001b[1;33m[\u001b[0m\u001b[1;36m6\u001b[0m\u001b[1;33m]\u001b[0m\u001b[1;33m.\u001b[0m\u001b[0msplit\u001b[0m\u001b[1;33m(\u001b[0m\u001b[1;34m'Size'\u001b[0m\u001b[1;33m)\u001b[0m\u001b[1;33m[\u001b[0m\u001b[1;36m0\u001b[0m\u001b[1;33m]\u001b[0m\u001b[1;33m\u001b[0m\u001b[1;33m\u001b[0m\u001b[0m\n\u001b[0;32m      8\u001b[0m     \u001b[0mdiet\u001b[0m \u001b[1;33m=\u001b[0m \u001b[0msomething\u001b[0m\u001b[1;33m.\u001b[0m\u001b[0mreplace\u001b[0m\u001b[1;33m(\u001b[0m\u001b[1;34m' '\u001b[0m\u001b[1;33m,\u001b[0m \u001b[1;34m''\u001b[0m\u001b[1;33m)\u001b[0m\u001b[1;33m\u001b[0m\u001b[1;33m\u001b[0m\u001b[0m\n",
      "\u001b[1;31mIndexError\u001b[0m: list index out of range"
     ]
    }
   ],
   "source": [
    "#get_diet skal kunne kaste exception hvis siden den henter fra giver fejl, så denne springes over\n",
    "\n",
    "base_url1 = 'http://www.prehistoric-wildlife.com/listings/{}.html'\n",
    "base_url2 = 'http://www.prehistoric-wildlife.com/species/{}/' \n",
    "extra_url = '{}.html'\n",
    "\n",
    "list = get_specific(base_url1, base_url2)\n",
    "#print('aaa')"
   ]
  }
 ],
 "metadata": {
  "kernelspec": {
   "display_name": "Python 3",
   "language": "python",
   "name": "python3"
  },
  "language_info": {
   "codemirror_mode": {
    "name": "ipython",
    "version": 3
   },
   "file_extension": ".py",
   "mimetype": "text/x-python",
   "name": "python",
   "nbconvert_exporter": "python",
   "pygments_lexer": "ipython3",
   "version": "3.7.4"
  }
 },
 "nbformat": 4,
 "nbformat_minor": 2
}
