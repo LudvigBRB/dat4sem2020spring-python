{
 "cells": [
  {
   "cell_type": "code",
   "execution_count": 3,
   "metadata": {},
   "outputs": [],
   "source": [
    "import mysql.connector\n",
    "import sys\n",
    "import pandas as pd\n",
    "import matplotlib.pyplot as plt\n",
    "import numpy as np\n"
   ]
  },
  {
   "cell_type": "code",
   "execution_count": 4,
   "metadata": {},
   "outputs": [],
   "source": [
    "def make_SQL_cursor(database):\n",
    "    cnx = mysql.connector.connect(user='dev', password='ax2',\n",
    "                                  host='127.0.0.1',\n",
    "                                  port='3307',\n",
    "                                  database=database,\n",
    "                                  use_pure=True)\n",
    "    cursor = cnx.cursor()\n",
    "    return cursor, cnx\n",
    "\n",
    "def retrieve_return():\n",
    "    cursor, cnx = make_SQL_cursor('analysis')\n",
    "\n",
    "    query = (\"SELECT a, b, c FROM analysis.info\")\n",
    "\n",
    "    cursor.execute(query)\n",
    "\n",
    "    aList = [value for value in cursor]\n",
    "    #bList = aList[0, 0:]\n",
    "    #bList = np.array(aList)\n",
    "    #cList = bList[:, :1].tolist()\n",
    "\n",
    "    cursor.close()\n",
    "    cnx.close()\n",
    "\n",
    "    return aList  # cList"
   ]
  },
  {
   "cell_type": "code",
   "execution_count": 5,
   "metadata": {},
   "outputs": [],
   "source": [
    "ienf = retrieve_return()"
   ]
  },
  {
   "cell_type": "code",
   "execution_count": 9,
   "metadata": {},
   "outputs": [
    {
     "name": "stdout",
     "output_type": "stream",
     "text": [
      "('24', '21', '25')\n"
     ]
    }
   ],
   "source": [
    "print(ienf[0])"
   ]
  }
 ],
 "metadata": {
  "kernelspec": {
   "display_name": "Python 3",
   "language": "python",
   "name": "python3"
  },
  "language_info": {
   "codemirror_mode": {
    "name": "ipython",
    "version": 3
   },
   "file_extension": ".py",
   "mimetype": "text/x-python",
   "name": "python",
   "nbconvert_exporter": "python",
   "pygments_lexer": "ipython3",
   "version": "3.7.4"
  }
 },
 "nbformat": 4,
 "nbformat_minor": 4
}
