{
 "cells": [
  {
   "cell_type": "code",
   "execution_count": 1,
   "metadata": {},
   "outputs": [
    {
     "name": "stdout",
     "output_type": "stream",
     "text": [
      "0.7875017444379971\n",
      "0.9404111072355169\n",
      "Ændrig i procentdel af skilsmissepar i Danmark:  0.15290936279751977 % flere\n"
     ]
    }
   ],
   "source": [
    "#A.\n",
    "\n",
    "import pandas as pd\n",
    "#data1 = pd.read_csv('https://api.statbank.dk/v1/data/FOLK1A/CSV?delimiter=Semicolon&Tid=2008K1%2C2020K1&CIVILSTAND=F', sep= ';')\n",
    "data = pd.read_csv('https://api.statbank.dk/v1/data/FOLK1A/CSV?delimiter=Semicolon&CIVILSTAND=F%2CTOT&Tid=2008K1%2C2020K1', sep=';')\n",
    "\n",
    "#print(data)\n",
    "#  CIVILSTAND     TID  INDHOLD\n",
    "#0   Fraskilt  2008K1   428864\n",
    "#1   Fraskilt  2020K1   544588\n",
    "#2      I alt  2008K1  5475791\n",
    "#3      I alt  2020K1  5822763\n",
    "\n",
    "pct2008 = data['INDHOLD'][0]/data['INDHOLD'][1]\n",
    "pct2020 = data['INDHOLD'][2]/data['INDHOLD'][3]\n",
    "print(pct2008)#0.7875017444379971\n",
    "print(pct2020)#0.9404111072355169\n",
    "\n",
    "print('Ændrig i procentdel af skilsmissepar i Danmark: ', pct2020-pct2008, '% flere')\n"
   ]
  },
  {
   "cell_type": "code",
   "execution_count": 2,
   "metadata": {},
   "outputs": [
    {
     "name": "stdout",
     "output_type": "stream",
     "text": [
      "{'Tårnby': 0.7307802653534439, 'Albertslund': 1.6770920359090427, 'Ballerup': 9.240949984407514, 'Brøndby': 36.20457172210094, 'Gentofte': 519.6666918030314}\n"
     ]
    },
    {
     "data": {
      "text/html": [
       "<div>\n",
       "<style scoped>\n",
       "    .dataframe tbody tr th:only-of-type {\n",
       "        vertical-align: middle;\n",
       "    }\n",
       "\n",
       "    .dataframe tbody tr th {\n",
       "        vertical-align: top;\n",
       "    }\n",
       "\n",
       "    .dataframe thead th {\n",
       "        text-align: right;\n",
       "    }\n",
       "</style>\n",
       "<table border=\"1\" class=\"dataframe\">\n",
       "  <thead>\n",
       "    <tr style=\"text-align: right;\">\n",
       "      <th></th>\n",
       "      <th>CIVILSTAND</th>\n",
       "      <th>TID</th>\n",
       "      <th>OMRÅDE</th>\n",
       "      <th>INDHOLD</th>\n",
       "    </tr>\n",
       "  </thead>\n",
       "  <tbody>\n",
       "    <tr>\n",
       "      <th>0</th>\n",
       "      <td>I alt</td>\n",
       "      <td>2008K1</td>\n",
       "      <td>Hele landet</td>\n",
       "      <td>5475791</td>\n",
       "    </tr>\n",
       "    <tr>\n",
       "      <th>1</th>\n",
       "      <td>I alt</td>\n",
       "      <td>2008K1</td>\n",
       "      <td>Region Hovedstaden</td>\n",
       "      <td>1645825</td>\n",
       "    </tr>\n",
       "    <tr>\n",
       "      <th>2</th>\n",
       "      <td>I alt</td>\n",
       "      <td>2008K1</td>\n",
       "      <td>København</td>\n",
       "      <td>509861</td>\n",
       "    </tr>\n",
       "    <tr>\n",
       "      <th>3</th>\n",
       "      <td>I alt</td>\n",
       "      <td>2008K1</td>\n",
       "      <td>Frederiksberg</td>\n",
       "      <td>93444</td>\n",
       "    </tr>\n",
       "    <tr>\n",
       "      <th>4</th>\n",
       "      <td>I alt</td>\n",
       "      <td>2008K1</td>\n",
       "      <td>Dragør</td>\n",
       "      <td>13261</td>\n",
       "    </tr>\n",
       "    <tr>\n",
       "      <th>...</th>\n",
       "      <td>...</td>\n",
       "      <td>...</td>\n",
       "      <td>...</td>\n",
       "      <td>...</td>\n",
       "    </tr>\n",
       "    <tr>\n",
       "      <th>415</th>\n",
       "      <td>Ugift</td>\n",
       "      <td>2020K1</td>\n",
       "      <td>Morsø</td>\n",
       "      <td>8740</td>\n",
       "    </tr>\n",
       "    <tr>\n",
       "      <th>416</th>\n",
       "      <td>Ugift</td>\n",
       "      <td>2020K1</td>\n",
       "      <td>Rebild</td>\n",
       "      <td>13553</td>\n",
       "    </tr>\n",
       "    <tr>\n",
       "      <th>417</th>\n",
       "      <td>Ugift</td>\n",
       "      <td>2020K1</td>\n",
       "      <td>Thisted</td>\n",
       "      <td>18696</td>\n",
       "    </tr>\n",
       "    <tr>\n",
       "      <th>418</th>\n",
       "      <td>Ugift</td>\n",
       "      <td>2020K1</td>\n",
       "      <td>Vesthimmerlands</td>\n",
       "      <td>16172</td>\n",
       "    </tr>\n",
       "    <tr>\n",
       "      <th>419</th>\n",
       "      <td>Ugift</td>\n",
       "      <td>2020K1</td>\n",
       "      <td>Aalborg</td>\n",
       "      <td>118194</td>\n",
       "    </tr>\n",
       "  </tbody>\n",
       "</table>\n",
       "<p>420 rows × 4 columns</p>\n",
       "</div>"
      ],
      "text/plain": [
       "    CIVILSTAND     TID              OMRÅDE  INDHOLD\n",
       "0        I alt  2008K1         Hele landet  5475791\n",
       "1        I alt  2008K1  Region Hovedstaden  1645825\n",
       "2        I alt  2008K1           København   509861\n",
       "3        I alt  2008K1       Frederiksberg    93444\n",
       "4        I alt  2008K1              Dragør    13261\n",
       "..         ...     ...                 ...      ...\n",
       "415      Ugift  2020K1               Morsø     8740\n",
       "416      Ugift  2020K1              Rebild    13553\n",
       "417      Ugift  2020K1             Thisted    18696\n",
       "418      Ugift  2020K1     Vesthimmerlands    16172\n",
       "419      Ugift  2020K1             Aalborg   118194\n",
       "\n",
       "[420 rows x 4 columns]"
      ]
     },
     "execution_count": 2,
     "metadata": {},
     "output_type": "execute_result"
    }
   ],
   "source": [
    "#B. \n",
    "import pandas as pd\n",
    "url = 'https://api.statbank.dk/v1/data/FOLK1A/CSV?delimiter=Semicolon&CIVILSTAND=TOT%2CU&Tid=2008K1%2C2020K1&OMR%C3%85DE=*'\n",
    "\n",
    "data = pd.read_csv(url, sep=';')\n",
    "#not_married_percent = (data['OMRÅDE'][not_married][4:]:data['INDHOLD'][not_married]/data['INDHOLD'][all_people]*100 for not_married, all_people in zip(range(5,10), range(0,5))\n",
    "\n",
    "#print(data['INDHOLD'][5])\n",
    "\n",
    "#dette er løsning\n",
    "result = {}\n",
    "for not_married, all_people in zip(range(5,10), range(0,5)): #not_married svarer til index i listen\n",
    "    #forholdet mellem alle folk og ikke gifte beregnes\n",
    "    pct_not_married = data['INDHOLD'][not_married]/data['INDHOLD'][all_people]*100 #divider ikke gifte med alle folk, data['INDHOLD'][not_married] er tallene for ikke gifte\n",
    "    #bestemt område vælges\n",
    "    city = data['OMRÅDE'][not_married]#[4:]\n",
    "    #forholdet mellem alle folk og ikke gifte sættes for hvert område\n",
    "    result[city] = pct_not_married\n",
    "\n",
    "print(result)\n",
    "data\n",
    "#data[2:]"
   ]
  },
  {
   "cell_type": "code",
   "execution_count": 3,
   "metadata": {},
   "outputs": [
    {
     "data": {
      "text/plain": [
       "<BarContainer object of 13 artists>"
      ]
     },
     "execution_count": 3,
     "metadata": {},
     "output_type": "execute_result"
    },
    {
     "data": {
      "image/png": "[encoded data removed]",
      "text/plain": [
       "<Figure size 432x288 with 1 Axes>"
      ]
     },
     "metadata": {
      "needs_background": "light"
     },
     "output_type": "display_data"
    }
   ],
   "source": [
    "import pandas as pd\n",
    "import matplotlib.pyplot as plt\n",
    "\n",
    "data = pd.read_csv('https://api.statbank.dk/v1/data/FOLK1A/CSV?delimiter=Semicolon&CIVILSTAND=TOT%2CU%2CG%2CE%2CF&Tid=2008K1%2C2009K1%2C2010K1%2C2011K1%2C2012K1%2C2013K1%2C2014K1%2C2015K1%2C2016K1%2C2017K1%2C2018K1%2C2019K1%2C2020K1&OMR%C3%85DE=101', sep=';')\n",
    "\n",
    "fraskilt = data.loc[data['CIVILSTAND']=='Fraskilt'].iloc[:, -1]\n",
    "fraskilt\n",
    "\n",
    "ugift = data.loc[data['CIVILSTAND']=='Ugift'].iloc[:, -1]\n",
    "ugift\n",
    "\n",
    "ialt = data.loc[data['CIVILSTAND']=='I alt'].iloc[:, -1]\n",
    "ialt\n",
    "\n",
    "giftsep = data.loc[data['CIVILSTAND']=='Gift/separeret'].iloc[:, -1]\n",
    "giftsep\n",
    "\n",
    "enke = data.loc[data['CIVILSTAND']=='Enke/enkemand'].iloc[:, -1]\n",
    "enke\n",
    "\n",
    "years = ['2008', '2009', '2010', '2011', '2012', '2013', '2014', '2015', '2016', '2017', '2018', '2019', '2020']\n",
    "\n",
    "plt.bar(years, ialt, width=0.4, linewidth=0, align='center', color='yellow')#alle \n",
    "plt.bar(years, ugift, width=0.4, linewidth=0, align='center', color='purple')#ugift\n",
    "plt.bar(years, giftsep, width=0.4, linewidth=0, align='center', color='red')#gift/separeret \n",
    "plt.bar(years, fraskilt, width=0.4, linewidth=0, align='center', color='blue')#fraskilt\n",
    "plt.bar(years, enke, width=0.4, linewidth=0, align='center', color='green') #enke\n",
    "\n",
    "#data[5:]"
   ]
  },
  {
   "cell_type": "code",
   "execution_count": 5,
   "metadata": {},
   "outputs": [
    {
     "data": {
      "text/plain": [
       "<BarContainer object of 13 artists>"
      ]
     },
     "execution_count": 5,
     "metadata": {},
     "output_type": "execute_result"
    },
    {
     "data": {
      "image/png": "[encoded data removed]",
      "text/plain": [
       "<Figure size 432x288 with 1 Axes>"
      ]
     },
     "metadata": {
      "needs_background": "light"
     },
     "output_type": "display_data"
    }
   ],
   "source": [
    "import pandas as pd\n",
    "import matplotlib.pyplot as plt\n",
    "\n",
    "data = pd.read_csv('https://api.statbank.dk/v1/data/FOLK1A/CSV?delimiter=Semicolon&CIVILSTAND=U%2CG&Tid=2008K1%2C2009K1%2C2010K1%2C2011K1%2C2012K1%2C2013K1%2C2014K1%2C2015K1%2C2016K1%2C2017K1%2C2018K1%2C2019K1%2C2020K1', sep=';')\n",
    "\n",
    "ugift = data.loc[data['CIVILSTAND']=='Ugift'].iloc[:, -1]\n",
    "ugift\n",
    "\n",
    "giftsep = data.loc[data['CIVILSTAND']=='Gift/separeret'].iloc[:, -1]\n",
    "giftsep\n",
    "\n",
    "years = ['2008', '2009', '2010', '2011', '2012', '2013', '2014', '2015', '2016', '2017', '2018', '2019', '2020']\n",
    "\n",
    "\n",
    "\n",
    "plt.bar(years, ugift, width=0.4, linewidth=0, align='center', color='green')#ugift\n",
    "plt.bar(years, giftsep, width=0.4, linewidth=0, align='center', color='red')#gift/separeret \n",
    "\n"
   ]
  }
 ],
 "metadata": {
  "kernelspec": {
   "display_name": "Python 3",
   "language": "python",
   "name": "python3"
  },
  "language_info": {
   "codemirror_mode": {
    "name": "ipython",
    "version": 3
   },
   "file_extension": ".py",
   "mimetype": "text/x-python",
   "name": "python",
   "nbconvert_exporter": "python",
   "pygments_lexer": "ipython3",
   "version": "3.7.4"
  }
 },
 "nbformat": 4,
 "nbformat_minor": 2
}
