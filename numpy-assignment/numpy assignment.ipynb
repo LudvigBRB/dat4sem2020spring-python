{
 "cells": [
  {
   "cell_type": "code",
   "execution_count": 1,
   "metadata": {},
   "outputs": [],
   "source": [
    "#opgave 3-4\n",
    "\n",
    "import numpy as np\n",
    "import matplotlib.pyplot as plt\n",
    "\n",
    "with open ('befkbhalderstatkode.csv') as kbh: \n",
    "    dd = np.genfromtxt(kbh, delimiter=',', dtype=np.uint, skip_header=1)\n",
    "\n",
    "neighb = {1: 'Indre By', 2: 'Østerbro', 3: 'Nørrebro', 4: 'Vesterbro/Kgs. Enghave', \n",
    "       5: 'Valby', 6: 'Vanløse', 7: 'Brønshøj-Husum', 8: 'Bispebjerg', 9: 'Amager Øst', \n",
    "       10: 'Amager Vest', 99: 'Udenfor'}\n",
    "\n",
    "#disse to funktioner udfører opgaven\n",
    "def number_of_people_in_area(n, data):\n",
    "    all_people_in_given_n = data[data[:,1] == n]\n",
    "    sum_of_people = all_people_in_given_n[:,4 ].sum()\n",
    "    return sum_of_people\n",
    "\n",
    "allPeopleAreas = np.array([number_of_people_in_area(n, dd) for n in neighb.keys()])\n",
    "sortedPeopleAreas = sorted(allPeopleAreas)\n",
    "length = np.arange(len(allPeopleAreas))\n",
    "\n",
    "def sort_population_areas(population, areas):\n",
    "    for i in range(len(population)):\n",
    "        for j in range(len(population) - 1):\n",
    "            if population[j] > population[j+1]:\n",
    "                population[j+1], population[j] = population[j], population[j+1]\n",
    "                areas[j+1], areas[j] = areas[j], areas[j+1]\n",
    "    print(population)\n",
    "    print(areas)\n",
    "\n",
    "allAreas = neighb.values()\n",
    "#plt.figure(figsize=(19,10))\n",
    "#plt.bar(length, sortedPeopleAreas)\n",
    "\n",
    "def area_and_number_people(dd, areas, funct):\n",
    "    allPeopleAreas = np.array([funct(n, dd) for n in areas.keys()])\n",
    "    allAreas = np.array([a for a in areas.values()])\n",
    "\n",
    "    for x in range(len(allAreas)):\n",
    "        print(\"Antal folk i\", allAreas[x], \"er\", allPeopleAreas[x])\n",
    "        print(\"\\n\")\n",
    "\n",
    "#area_and_number_people(dd, neighb, number_of_people_in_area)"
   ]
  },
  {
   "cell_type": "code",
   "execution_count": 17,
   "metadata": {},
   "outputs": [
    {
     "name": "stdout",
     "output_type": "stream",
     "text": [
      "55750\n",
      "610\n"
     ]
    }
   ],
   "source": [
    "#opgave 5-6\n",
    "\n",
    "import numpy as np\n",
    "import matplotlib.pyplot as plt\n",
    "\n",
    "with open ('befkbhalderstatkode.csv') as kbh: \n",
    "    dd = np.genfromtxt(kbh, delimiter=',', dtype=np.uint, skip_header=1)\n",
    "    \n",
    "maskAge = (dd[:,0] == 2015) & (dd[:,2] > 65)\n",
    "print(np.sum(dd[maskAge][:,4]))\n",
    "\n",
    "maskNordics = (dd[:,0] == 2015) & (dd[:,2] > 65) & ((dd[:,3] == 5104) | (dd[:,3] == 5105) | (dd[:,3] == 5106) | (dd[:,3] == 5110) | (dd[:,3] == 5120))\n",
    "print(np.sum(dd[maskNordics][:,4]))\n",
    "\n",
    "#maskRoyal = (dd[:,3] == 5115 ) & (dd[:,0] == 2015)\n",
    "#np.sum(dd[maskRoyal][:,4])"
   ]
  },
  {
   "cell_type": "code",
   "execution_count": 47,
   "metadata": {},
   "outputs": [
    {
     "name": "stdout",
     "output_type": "stream",
     "text": [
      "[110075 110172 110588 111205 112237 114131 115257 115815 116985 117633\n",
      " 118059 118595 118385 118314 117654 118294 119430 122120 125266 128088\n",
      " 130811 132599 134849]\n"
     ]
    },
    {
     "data": {
      "text/plain": [
       "[1992, 2015, 110075, 135349]"
      ]
     },
     "execution_count": 47,
     "metadata": {},
     "output_type": "execute_result"
    },
    {
     "data": {
      "image/png": "[encoded data removed]",
      "text/plain": [
       "<Figure size 432x288 with 1 Axes>"
      ]
     },
     "metadata": {
      "needs_background": "light"
     },
     "output_type": "display_data"
    }
   ],
   "source": [
    "#opgae 7\n",
    "\n",
    "import numpy as np\n",
    "import matplotlib.pyplot as plt\n",
    "\n",
    "with open ('befkbhalderstatkode.csv') as kbh: \n",
    "    dd = np.genfromtxt(kbh, delimiter=',', dtype=np.uint, skip_header=1)\n",
    "    \n",
    "neighb = {1: 'Indre By', 2: 'Østerbro', 3: 'Nørrebro', 4: 'Vesterbro/Kgs. Enghave', \n",
    "          5: 'Valby', 6: 'Vanløse', 7: 'Brønshøj-Husum', 8: 'Bispebjerg', 9: 'Amager Øst', \n",
    "          10: 'Amager Vest', 99: 'Udenfor'}\n",
    "    \n",
    "mask = (dd[:,1] == 2) | (dd[:,1] == 4)\n",
    "years = range(1992, 2015)\n",
    "#print(dd[mask])\n",
    "\n",
    "def people_of(year, mask):\n",
    "    all_people_in_given_year = dd[mask & (dd[:,0] == year)]\n",
    "    sum_of_people = all_people_in_given_year[:,4].sum()\n",
    "    return sum_of_people\n",
    "\n",
    "development = np.array([people_of(year, mask) for year in years])\n",
    "print(development)\n",
    "\n",
    "plt.plot(years, development)\n",
    "plt.axis([min(years), max(years) + 1, min(development), max(development) + 500])\n",
    "    "
   ]
  },
  {
   "cell_type": "code",
   "execution_count": 24,
   "metadata": {},
   "outputs": [
    {
     "name": "stdout",
     "output_type": "stream",
     "text": [
      "1992\n",
      "1993\n",
      "1994\n",
      "1995\n",
      "1996\n",
      "1997\n",
      "1998\n",
      "1999\n",
      "2000\n",
      "2001\n",
      "2002\n",
      "2003\n",
      "2004\n",
      "2005\n",
      "2006\n",
      "2007\n",
      "2008\n",
      "2009\n",
      "2010\n",
      "2011\n",
      "2012\n",
      "2013\n",
      "2014\n",
      "2015\n"
     ]
    }
   ],
   "source": []
  },
  {
   "cell_type": "code",
   "execution_count": 21,
   "metadata": {},
   "outputs": [
    {
     "name": "stdout",
     "output_type": "stream",
     "text": [
      "[1, 2, 5, 6, 13, 31, 32, 34, 55, 98]\n",
      "['a', 'd', 'b', 'j', 'e', 'f', 'c', 'i', 'g', 'h']\n"
     ]
    }
   ],
   "source": [
    "a=[1,5,32, 2, 13, 31, 55, 98, 34, 6]\n",
    "b = ['a', 'b', 'c', 'd','e', 'f', 'g', 'h', 'i', 'j']\n",
    "\n",
    "for i in range(len(a)):\n",
    "    for j in range(len(a) - 1):\n",
    "        if a[j] > a[j+1]:\n",
    "            a[j+1], a[j] = a[j], a[j+1]\n",
    "            b[j+1], b[j] = b[j], b[j+1]\n",
    "print(a)\n",
    "print(b)"
   ]
  }
 ],
 "metadata": {
  "kernelspec": {
   "display_name": "Python 3",
   "language": "python",
   "name": "python3"
  },
  "language_info": {
   "codemirror_mode": {
    "name": "ipython",
    "version": 3
   },
   "file_extension": ".py",
   "mimetype": "text/x-python",
   "name": "python",
   "nbconvert_exporter": "python",
   "pygments_lexer": "ipython3",
   "version": "3.7.4"
  }
 },
 "nbformat": 4,
 "nbformat_minor": 2
}
