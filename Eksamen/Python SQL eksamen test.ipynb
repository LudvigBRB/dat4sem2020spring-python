{
 "cells": [
  {
   "cell_type": "code",
   "execution_count": 3,
   "metadata": {},
   "outputs": [
    {
     "data": {
      "text/plain": [
       "'færdig'"
      ]
     },
     "execution_count": 3,
     "metadata": {},
     "output_type": "execute_result"
    }
   ],
   "source": [
    "import SQL as s\n",
    "\n",
    "s.insert_into_database('analysis', 'info', 2, 345, 20)"
   ]
  },
  {
   "cell_type": "code",
   "execution_count": 2,
   "metadata": {
    "scrolled": true
   },
   "outputs": [],
   "source": [
    "import SQL as s\n",
    "\n",
    "liste1, liste2, liste3 = s.retrieve_return('analysis', 'info')"
   ]
  },
  {
   "cell_type": "code",
   "execution_count": 7,
   "metadata": {},
   "outputs": [
    {
     "name": "stdout",
     "output_type": "stream",
     "text": [
      "[38, 29, 139, 19, 90, 7]\n",
      "['38', '29', '139', '19', '90', '7']\n",
      "['1', '2', '92', '32', '72', '22']\n",
      "['73', '3', '30', '80', '90', '70']\n"
     ]
    }
   ],
   "source": [
    "results = list(map(int, liste1))\n",
    "\n",
    "print(results)\n",
    "print(liste1)\n",
    "print(liste2)\n",
    "print(liste3)"
   ]
  },
  {
   "cell_type": "code",
   "execution_count": 2,
   "metadata": {},
   "outputs": [],
   "source": [
    "import SQL as s\n",
    "\n",
    "listeId = s.retrieve_return_id('analysis', 'info')"
   ]
  },
  {
   "cell_type": "code",
   "execution_count": 4,
   "metadata": {},
   "outputs": [
    {
     "name": "stdout",
     "output_type": "stream",
     "text": [
      "['24', '22', '10', '120', '12', '12', '12', '2']\n",
      "[1, 2, 3, 4, 5, 6, 7, 8]\n"
     ]
    }
   ],
   "source": [
    "print(liste)\n",
    "print(listeId)"
   ]
  },
  {
   "cell_type": "code",
   "execution_count": 35,
   "metadata": {},
   "outputs": [
    {
     "name": "stdout",
     "output_type": "stream",
     "text": [
      "12\n",
      "[('24', '21', '25'), ('22', '221', '245'), ('10', '382', '58'), ('120', '82', '258'), ('12', '98', '27'), ('12', '98', '27'), ('12', '98', '27'), ('2', '345', '20')]\n"
     ]
    }
   ],
   "source": [
    "print(liste[5][0])\n",
    "print(liste)\n",
    "\n",
    "listB = []\n",
    "listC = []\n",
    "\n",
    "for i in range(0, len(liste)):\n",
    "    listB.append(liste[i][0])\n",
    "    \n",
    "for i in range(0, len(listeId)):\n",
    "    listC.append(listeId[i][0])"
   ]
  },
  {
   "cell_type": "code",
   "execution_count": 36,
   "metadata": {},
   "outputs": [
    {
     "name": "stdout",
     "output_type": "stream",
     "text": [
      "['24', '22', '10', '120', '12', '12', '12', '2']\n",
      "[1, 2, 3, 4, 5, 6, 7, 8]\n"
     ]
    }
   ],
   "source": [
    "print(listB)\n",
    "print(listC)"
   ]
  },
  {
   "cell_type": "code",
   "execution_count": 8,
   "metadata": {},
   "outputs": [
    {
     "data": {
      "text/plain": [
       "[<matplotlib.lines.Line2D at 0xea6a0789c8>]"
      ]
     },
     "execution_count": 8,
     "metadata": {},
     "output_type": "execute_result"
    },
    {
     "data": {
      "image/png": "[encoded data removed]",
      "text/plain": [
       "<Figure size 432x288 with 1 Axes>"
      ]
     },
     "metadata": {
      "needs_background": "light"
     },
     "output_type": "display_data"
    }
   ],
   "source": [
    "import pandas as pd\n",
    "import matplotlib.pyplot as plt\n",
    "\n",
    "plt.plot(listeId, liste1) #, ylim=(0,200)"
   ]
  },
  {
   "cell_type": "code",
   "execution_count": 1,
   "metadata": {},
   "outputs": [],
   "source": [
    "import mysql.connector\n",
    "import pandas as pd\n",
    "import matplotlib.pyplot as plt\n",
    "import numpy as np\n",
    "import time\n",
    "\n",
    "\n",
    "def retrieve_return(database, table):  # this works\n",
    "    cursor, cnx = make_SQL_cursor(database)\n",
    "\n",
    "    #query = (\"SELECT a FROM \" + database + \".\" + table)\n",
    "    query = (\"SELECT a, b, c FROM analysis.info\")\n",
    "\n",
    "    cursor.execute(query)\n",
    "\n",
    "    #aList = [value for value in cursor]\n",
    "    fList = [value for value in cursor]\n",
    "\n",
    "    aList = []\n",
    "    bList = []\n",
    "    cList = []\n",
    "\n",
    "    for i in range(0, len(fList)):\n",
    "        aList.append(fList[i][0])\n",
    "        bList.append(fList[i][1])\n",
    "        cList.append(fList[i][2])\n",
    "\n",
    "    cursor.close()\n",
    "    cnx.close()\n",
    "    \n",
    "    aList = list(map(int, aList))\n",
    "    bList = list(map(int, bList))\n",
    "    cList = list(map(int, cList))\n",
    "    \n",
    "\n",
    "    return aList, bList, cList\n",
    "\n",
    "def make_SQL_cursor(database):\n",
    "    cnx = mysql.connector.connect(user='dev', password='ax2',\n",
    "                                  host='127.0.0.1',\n",
    "                                  port='3307',\n",
    "                                  database=database,\n",
    "                                  use_pure=True)\n",
    "    cursor = cnx.cursor()\n",
    "    return cursor, cnx\n",
    "\n",
    "def retrieve_return_id(database, table):  # this works\n",
    "    cursor, cnx = make_SQL_cursor(database)\n",
    "\n",
    "    query = (\"SELECT id FROM \" + database + \".\" + table)\n",
    "    #query = (\"SELECT a, b, c FROM analysis.info\")\n",
    "\n",
    "    cursor.execute(query)\n",
    "\n",
    "    aList = [value for value in cursor]\n",
    "    bList = []\n",
    "    \n",
    "    for i in range(0, len(aList)):\n",
    "        bList.append(aList[i][0])\n",
    "\n",
    "    cursor.close()\n",
    "    cnx.close()\n",
    "\n",
    "    return bList\n",
    "\n",
    "def retrieve_return_time(database, table):  # this works\n",
    "    cursor, cnx = make_SQL_cursor(database)\n",
    "\n",
    "    query = (\"SELECT time FROM \" + database + \".\" + table)\n",
    "    #query = (\"SELECT a, b, c FROM analysis.info\")\n",
    "\n",
    "    cursor.execute(query)\n",
    "\n",
    "    aList = [value for value in cursor]\n",
    "    bList = []\n",
    "    \n",
    "    for i in range(0, len(aList)):\n",
    "        bList.append(aList[i][0])\n",
    "\n",
    "    cursor.close()\n",
    "    cnx.close()\n",
    "\n",
    "    return bList\n",
    "\n",
    "def make_graph(database, table):\n",
    "    data_list1, data_list2, data_list3 = retrieve_return('analysis', 'info')\n",
    "    id_list = retrieve_return_id('analysis', 'info')\n",
    "    time_list = retrieve_return_time('analysis', 'info')\n",
    "\n",
    "    f, ax = plt.subplots()\n",
    "\n",
    "    plt.plot(id_list, data_list1, \"-b\", label = \"data1\")\n",
    "    plt.plot(id_list, data_list2, \"-r\", label = \"data2\")\n",
    "    plt.plot(id_list, data_list3, \"-g\", label = \"data3\")\n",
    "    plt.legend(loc=\"upper left\")\n",
    "\n",
    "    ax.set_xticks(id_list)\n",
    "    ax.set_xticklabels(time_list)\n",
    "\n",
    "    plt.show()\n"
   ]
  },
  {
   "cell_type": "code",
   "execution_count": 16,
   "metadata": {},
   "outputs": [
    {
     "name": "stdout",
     "output_type": "stream",
     "text": [
      "<class 'str'>\n"
     ]
    }
   ],
   "source": [
    "list1, list2, list3 = retrieve_return('analysis', 'info')\n",
    "print(type(list1[0]"
   ]
  },
  {
   "cell_type": "code",
   "execution_count": 2,
   "metadata": {
    "scrolled": true
   },
   "outputs": [
    {
     "data": {
      "image/png": "[encoded data removed]",
      "text/plain": [
       "<Figure size 432x288 with 1 Axes>"
      ]
     },
     "metadata": {
      "needs_background": "light"
     },
     "output_type": "display_data"
    }
   ],
   "source": [
    "#import SQL as s\n",
    "\n",
    "make_graph('analysis', 'info')"
   ]
  },
  {
   "cell_type": "code",
   "execution_count": 34,
   "metadata": {},
   "outputs": [
    {
     "data": {
      "text/plain": [
       "<matplotlib.collections.PathCollection at 0x2687549148>"
      ]
     },
     "execution_count": 34,
     "metadata": {},
     "output_type": "execute_result"
    },
    {
     "data": {
      "image/png": "[encoded data removed]",
      "text/plain": [
       "<Figure size 432x288 with 1 Axes>"
      ]
     },
     "metadata": {
      "needs_background": "light"
     },
     "output_type": "display_data"
    }
   ],
   "source": [
    "import mysql.connector\n",
    "import pandas as pd\n",
    "import matplotlib.pyplot as plt\n",
    "import numpy as np\n",
    "\n",
    "data_list1, data_list2, data_list3 = retrieve_return('analysis', 'info')\n",
    "time_list = retrieve_return_time('analysis', 'info')\n",
    "id_list = retrieve_return_id('analysis', 'info')\n",
    "\n",
    "plt.scatter([id_list], [data_list1])\n",
    "plt.scatter([id_list], [data_list2])\n",
    "plt.scatter([id_list], [data_list3])"
   ]
  },
  {
   "cell_type": "code",
   "execution_count": 5,
   "metadata": {},
   "outputs": [
    {
     "data": {
      "image/png": "[encoded data removed]",
      "text/plain": [
       "<Figure size 432x288 with 1 Axes>"
      ]
     },
     "metadata": {
      "needs_background": "light"
     },
     "output_type": "display_data"
    }
   ],
   "source": [
    "import mysql.connector\n",
    "import pandas as pd\n",
    "import matplotlib.pyplot as plt\n",
    "import numpy as np\n",
    "\n",
    "data_list1, data_list2, data_list3 = retrieve_return('analysis', 'info')\n",
    "id_list = retrieve_return_id('analysis', 'info')\n",
    "time_list = retrieve_return_time('analysis', 'info')\n",
    "\n",
    "f, ax = plt.subplots()\n",
    "\n",
    "plt.plot(id_list, data_list1, \"-b\", label = \"data1\")\n",
    "plt.plot(id_list, data_list2, \"-r\", label = \"data2\")\n",
    "plt.plot(id_list, data_list3, \"-g\", label = \"data3\")\n",
    "plt.legend(loc=\"upper left\")\n",
    "\n",
    "ax.set_xticks(id_list)\n",
    "ax.set_xticklabels(time_list)\n",
    "\n",
    "plt.show()"
   ]
  },
  {
   "cell_type": "code",
   "execution_count": 22,
   "metadata": {},
   "outputs": [
    {
     "name": "stdout",
     "output_type": "stream",
     "text": [
      "Wed May 20 15:13:16 2020\n"
     ]
    }
   ],
   "source": [
    "import time\n",
    "\n",
    "#localtime = time.asctime( time.localtime(time.time()) )\n",
    "localtime = time.asctime( time.localtime(time.time()) )\n",
    "\n",
    "print(localtime)"
   ]
  },
  {
   "cell_type": "code",
   "execution_count": 34,
   "metadata": {},
   "outputs": [
    {
     "name": "stdout",
     "output_type": "stream",
     "text": [
      "15:14:56\n"
     ]
    }
   ],
   "source": [
    "from datetime import datetime\n",
    "\n",
    "now = datetime.now()\n",
    "current_time = now.strftime(\"%H:%M:%S\")\n",
    "\n",
    "print(current_time)"
   ]
  },
  {
   "cell_type": "code",
   "execution_count": 35,
   "metadata": {},
   "outputs": [],
   "source": [
    "import time\n",
    "from datetime import datetime\n",
    "\n",
    "localtime = time.asctime( time.localtime(time.time()) )\n",
    "\n",
    "def insert_into_database(database, table, a, b, c):\n",
    "    #a, b, c = take3Variables(a, b, c)\n",
    "\n",
    "    cursor, cnx = make_SQL_cursor(database)\n",
    "    \n",
    "    #localtime = time.asctime( time.localtime(time.time()) )\n",
    "    now = datetime.now()\n",
    "    current_time = now.strftime(\"%H:%M:%S\")\n",
    "\n",
    "    query = (\"INSERT INTO \" + table + \" VALUES (null, %s, %s, %s, %s)\")\n",
    "\n",
    "    cursor.execute(query, (a, b, c, current_time))\n",
    "    \n",
    "    cnx.commit()\n",
    "\n",
    "    cursor.close()\n",
    "    cnx.close()\n",
    "\n",
    "    return 'færdig'"
   ]
  },
  {
   "cell_type": "code",
   "execution_count": 44,
   "metadata": {},
   "outputs": [
    {
     "data": {
      "text/plain": [
       "'færdig'"
      ]
     },
     "execution_count": 44,
     "metadata": {},
     "output_type": "execute_result"
    }
   ],
   "source": [
    "insert_into_database('analysis', 'info', 7, 22, 70)"
   ]
  }
 ],
 "metadata": {
  "kernelspec": {
   "display_name": "Python 3",
   "language": "python",
   "name": "python3"
  },
  "language_info": {
   "codemirror_mode": {
    "name": "ipython",
    "version": 3
   },
   "file_extension": ".py",
   "mimetype": "text/x-python",
   "name": "python",
   "nbconvert_exporter": "python",
   "pygments_lexer": "ipython3",
   "version": "3.7.4"
  }
 },
 "nbformat": 4,
 "nbformat_minor": 4
}
