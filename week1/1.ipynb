{
 "cells": [
  {
   "cell_type": "code",
   "execution_count": null,
   "metadata": {},
   "outputs": [],
   "source": [
    "#1 List comprehension\n",
    "#A\n",
    "names = ['Asger', 'Iben', 'Jokum', 'Jannike', 'Elsa', 'Yvonne', 'Harald', 'Hyben']\n",
    "listH = [name for name in names if name[0] == 'H']\n",
    "#print(listH)\n",
    "\n",
    "#B\n",
    "numberP3 = [number**3 for number in range(1, 100)]\n",
    "#print(numberP3)\n",
    "\n",
    "#C\n",
    "nameAndLength = [(len(name), name) for name in names]\n",
    "#print(nameAndLength)\n",
    "\n",
    "#D\n",
    "aString = '83r0k3dine03d9k2in34'\n",
    "theList = [aString[e] for e in range(len(aString)) if aString[e].isdigit()] #isalpha\n",
    "#print(theList)\n",
    "\n",
    "#E\n",
    "na = {'hej', 'med', 'dig', 'lille', 'du'}\n",
    "#{tal*aName for tal in range(1, 5) for aName in na}\n",
    "\n",
    "#{(tal, nyTal) for tal in range(1, 7) for nyTal in range(1, 7)}"
   ]
  },
  {
   "cell_type": "code",
   "execution_count": null,
   "metadata": {},
   "outputs": [],
   "source": [
    "#2 Dictionary\n",
    "#A\n",
    "names = ['Asger', 'Iben', 'Jokum', 'Jannike', 'Elsa', 'Yvonne', 'Harald', 'Hyben']\n",
    "#{name:len(name) for name in names} #den skal have tuborgklammer som en Dictionary\n",
    "\n",
    "#B\n",
    "#{number:number**2 for number in range(1, 20)}"
   ]
  },
  {
   "cell_type": "code",
   "execution_count": null,
   "metadata": {},
   "outputs": [],
   "source": [
    "#3 Percent\n",
    "twoDice = set((x,y) for x in range(1,6) for y in range(1,6))\n",
    "chance = []\n",
    "for dice in twoDice:\n",
    "    chance.append((dice, (float(dice[1])/6)*(float(dice[1])/6)*100))\n",
    "print(chance)"
   ]
  }
 ],
 "metadata": {
  "kernelspec": {
   "display_name": "Python 3",
   "language": "python",
   "name": "python3"
  },
  "language_info": {
   "codemirror_mode": {
    "name": "ipython",
    "version": 3
   },
   "file_extension": ".py",
   "mimetype": "text/x-python",
   "name": "python",
   "nbconvert_exporter": "python",
   "pygments_lexer": "ipython3",
   "version": "3.7.4"
  }
 },
 "nbformat": 4,
 "nbformat_minor": 2
}
